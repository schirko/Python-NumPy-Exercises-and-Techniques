{
 "cells": [
  {
   "cell_type": "markdown",
   "id": "bc99460f",
   "metadata": {},
   "source": [
    "<h1><center>Python NumPy Exercises and Techniques</h1></center>\n",
    "<b>Purpose:</b> This living document is meant to service as a learning tool."
   ]
  },
  {
   "cell_type": "markdown",
   "id": "a100c1dc",
   "metadata": {},
   "source": [
    "## Python and NumPy Operators\n",
    "\n",
    "Python divides the operators in the following groups:\n",
    "\n",
    "<li>Arithmetic operators</li>\n",
    "<li>Assignment operators</li>\n",
    "<li>Comparison operators</li>\n",
    "<li>Logical operators</li>\n",
    "<li>Identity operators</li>\n",
    "<li>Membership operators</li>\n",
    "<li>Bitwise operators</li>"
   ]
  },
  {
   "cell_type": "code",
   "execution_count": 1,
   "id": "f35b920c",
   "metadata": {},
   "outputs": [
    {
     "data": {
      "text/plain": [
       "array([21.85171573, 20.97505669, 21.75028214, 24.7473475 , 21.44127836])"
      ]
     },
     "execution_count": 1,
     "metadata": {},
     "output_type": "execute_result"
    }
   ],
   "source": [
    "# Importing numpy module\n",
    "import numpy as np\n",
    "\n",
    "# Define numpy arrays\n",
    "np_height = np.array([1.73, 1.68, 1.71, 1.89, 1.79])\n",
    "np_weight = np.array([65.4, 59.2, 63.6, 88.4, 68.7])\n",
    "\n",
    "bmi = np_weight / np_height ** 2\n",
    "\n",
    "bmi"
   ]
  },
  {
   "cell_type": "markdown",
   "id": "11a12a5e",
   "metadata": {},
   "source": [
    "In the folollowing two lines of code,, the first line is a boolean expression that returns a boolean array of the same shape as the bmi array.  The second line of code bmi[bmi > 23] is using boolean indexing to return a new array containing only those elements of bmi that satisfy the condition bmi > 23."
   ]
  },
  {
   "cell_type": "code",
   "execution_count": 2,
   "id": "f5bd523d",
   "metadata": {},
   "outputs": [
    {
     "data": {
      "text/plain": [
       "array([ True, False, False,  True, False])"
      ]
     },
     "execution_count": 2,
     "metadata": {},
     "output_type": "execute_result"
    }
   ],
   "source": [
    "bmi > 21.76"
   ]
  },
  {
   "cell_type": "code",
   "execution_count": 3,
   "id": "e79e0402",
   "metadata": {},
   "outputs": [
    {
     "data": {
      "text/plain": [
       "array([21.85171573, 24.7473475 ])"
      ]
     },
     "execution_count": 3,
     "metadata": {},
     "output_type": "execute_result"
    }
   ],
   "source": [
    "bmi[bmi > 21.76]"
   ]
  },
  {
   "cell_type": "markdown",
   "id": "0d5b9980",
   "metadata": {},
   "source": [
    "### Boolean Operations"
   ]
  },
  {
   "cell_type": "code",
   "execution_count": 4,
   "id": "c556043e",
   "metadata": {},
   "outputs": [
    {
     "data": {
      "text/plain": [
       "array([ True, False,  True,  True,  True])"
      ]
     },
     "execution_count": 4,
     "metadata": {},
     "output_type": "execute_result"
    }
   ],
   "source": [
    "# Importing numpy module\n",
    "import numpy as np\n",
    "\n",
    "# Creating NumPy array for BMI\n",
    "bmi = np.array([21.852, 20.975, 21.75, 24.747, 21.441])\n",
    "\n",
    "bmi > 21"
   ]
  },
  {
   "cell_type": "markdown",
   "id": "da27b0a6",
   "metadata": {},
   "source": [
    "#### \"logical_and\", \"logical_or\", or \"logical_not\""
   ]
  },
  {
   "cell_type": "markdown",
   "id": "26265719",
   "metadata": {},
   "source": [
    "In this next example we see that the operators doesn't like the array to work on.  \n",
    "\n",
    "\"bmi > 21 and bmi < 22\"\n",
    "\n",
    "\"ValueError: The truth value of an array with more than one element is ambiguous. Use a.any() or a.all()\""
   ]
  },
  {
   "cell_type": "markdown",
   "id": "619d754a",
   "metadata": {},
   "source": [
    "The answer is to use NumPy operatores \"logical_and\", \"logical_or\", or \"logical_not\"."
   ]
  },
  {
   "cell_type": "code",
   "execution_count": 5,
   "id": "c495a27f",
   "metadata": {},
   "outputs": [
    {
     "data": {
      "text/plain": [
       "array([ True, False,  True, False,  True])"
      ]
     },
     "execution_count": 5,
     "metadata": {},
     "output_type": "execute_result"
    }
   ],
   "source": [
    "np.logical_and(bmi > 21, bmi < 22)"
   ]
  },
  {
   "cell_type": "markdown",
   "id": "01636bd4",
   "metadata": {},
   "source": [
    "To actually select that numbers from the array just use square brackets."
   ]
  },
  {
   "cell_type": "code",
   "execution_count": 6,
   "id": "1d257ae0",
   "metadata": {},
   "outputs": [
    {
     "data": {
      "text/plain": [
       "array([21.852, 21.75 , 21.441])"
      ]
     },
     "execution_count": 6,
     "metadata": {},
     "output_type": "execute_result"
    }
   ],
   "source": [
    "bmi[np.logical_and(bmi > 21, bmi < 22)]"
   ]
  },
  {
   "cell_type": "markdown",
   "id": "37f4f47e",
   "metadata": {},
   "source": [
    "### Logical Operations\n",
    "Using \"logical_and\" to compare lists."
   ]
  },
  {
   "cell_type": "code",
   "execution_count": 7,
   "id": "9a477088",
   "metadata": {},
   "outputs": [
    {
     "name": "stdout",
     "output_type": "stream",
     "text": [
      "Operation between two lists =   [ True False False False]\n"
     ]
    }
   ],
   "source": [
    "# Importing numpy module\n",
    "import numpy as np\n",
    "  \n",
    "# list 1 represents an array with boolean values\n",
    "list1 = [True, False, True, False]\n",
    "  \n",
    "# list 2 represents an array with boolean values\n",
    "list2 = [True, True, False, True]\n",
    "  \n",
    "# logical operations between boolean values\n",
    "print('Operation between two lists =  ',\n",
    "      np.logical_and(list1, list2))"
   ]
  },
  {
   "cell_type": "markdown",
   "id": "044980de",
   "metadata": {},
   "source": [
    "## Conditional is, else, elif\n",
    "if condition :\n",
    "    expression"
   ]
  },
  {
   "cell_type": "markdown",
   "id": "73cf2142",
   "metadata": {},
   "source": [
    "A basic modulous (%) example."
   ]
  },
  {
   "cell_type": "code",
   "execution_count": 8,
   "id": "50e414fd",
   "metadata": {},
   "outputs": [
    {
     "name": "stdout",
     "output_type": "stream",
     "text": [
      "z is even\n"
     ]
    }
   ],
   "source": [
    "z = 4\n",
    "if z % 2 == 0 : \n",
    "    print(\"z is even\")"
   ]
  },
  {
   "cell_type": "markdown",
   "id": "7896e798",
   "metadata": {},
   "source": [
    "Let's add another condition"
   ]
  },
  {
   "cell_type": "code",
   "execution_count": 9,
   "id": "39f9e9f7",
   "metadata": {},
   "outputs": [
    {
     "name": "stdout",
     "output_type": "stream",
     "text": [
      "z is even\n"
     ]
    }
   ],
   "source": [
    "Z = 4\n",
    "if z % 2 == 0 :  #False\n",
    "    print(\"z is even\")\n",
    "else :    \n",
    "    print(\"z is odd\")"
   ]
  },
  {
   "cell_type": "markdown",
   "id": "0c6504a1",
   "metadata": {},
   "source": [
    "When more customized behaviour is nessisary."
   ]
  },
  {
   "cell_type": "code",
   "execution_count": 10,
   "id": "775cc732",
   "metadata": {},
   "outputs": [
    {
     "name": "stdout",
     "output_type": "stream",
     "text": [
      "z is divisible by 3\n"
     ]
    }
   ],
   "source": [
    "z = 3\n",
    "if z % 2 == 0:\n",
    "    print(\"z is divisible by 2\") # False\n",
    "elif z % 3 == 0:\n",
    "    print(\"z is divisible by 3\") # True\n",
    "else :\n",
    "    print(\"z is neither divisible by 2 nor by 3\")"
   ]
  },
  {
   "cell_type": "code",
   "execution_count": null,
   "id": "b0022a8f",
   "metadata": {},
   "outputs": [],
   "source": []
  }
 ],
 "metadata": {
  "kernelspec": {
   "display_name": "Python 3 (ipykernel)",
   "language": "python",
   "name": "python3"
  },
  "language_info": {
   "codemirror_mode": {
    "name": "ipython",
    "version": 3
   },
   "file_extension": ".py",
   "mimetype": "text/x-python",
   "name": "python",
   "nbconvert_exporter": "python",
   "pygments_lexer": "ipython3",
   "version": "3.9.13"
  }
 },
 "nbformat": 4,
 "nbformat_minor": 5
}
