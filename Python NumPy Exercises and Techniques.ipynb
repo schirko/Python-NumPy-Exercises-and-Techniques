{
 "cells": [
  {
   "cell_type": "markdown",
   "id": "bc99460f",
   "metadata": {},
   "source": [
    "<h1><center>Python NumPy Exercises and Techniques</h1></center>\n",
    "<b>Purpose:</b> This living document is meant to service as a learning tool."
   ]
  },
  {
   "cell_type": "markdown",
   "id": "a100c1dc",
   "metadata": {},
   "source": [
    "## Python and NumPy Operators\n",
    "\n",
    "Python divides the operators in the following groups:\n",
    "\n",
    "<li>Arithmetic operators</li>\n",
    "<li>Assignment operators</li>\n",
    "<li>Comparison operators</li>\n",
    "<li>Logical operators</li>\n",
    "<li>Identity operators</li>\n",
    "<li>Membership operators</li>\n",
    "<li>Bitwise operators</li>"
   ]
  },
  {
   "cell_type": "code",
   "execution_count": 1,
   "id": "f35b920c",
   "metadata": {},
   "outputs": [
    {
     "data": {
      "text/plain": [
       "array([21.85171573, 20.97505669, 21.75028214, 24.7473475 , 21.44127836])"
      ]
     },
     "execution_count": 1,
     "metadata": {},
     "output_type": "execute_result"
    }
   ],
   "source": [
    "# Importing numpy module\n",
    "import numpy as np\n",
    "\n",
    "# Define numpy arrays\n",
    "np_height = np.array([1.73, 1.68, 1.71, 1.89, 1.79])\n",
    "np_weight = np.array([65.4, 59.2, 63.6, 88.4, 68.7])\n",
    "\n",
    "bmi = np_weight / np_height ** 2\n",
    "\n",
    "bmi"
   ]
  },
  {
   "cell_type": "markdown",
   "id": "df6a140d",
   "metadata": {},
   "source": [
    "In the folollowing two lines of code,, the first line is a boolean expression that returns a boolean array of the same shape as the bmi array.  The second line of code bmi[bmi > 23] is using boolean indexing to return a new array containing only those elements of bmi that satisfy the condition bmi > 23."
   ]
  },
  {
   "cell_type": "code",
   "execution_count": 2,
   "id": "f5bd523d",
   "metadata": {},
   "outputs": [
    {
     "data": {
      "text/plain": [
       "array([ True, False, False,  True, False])"
      ]
     },
     "execution_count": 2,
     "metadata": {},
     "output_type": "execute_result"
    }
   ],
   "source": [
    "bmi > 21.76"
   ]
  },
  {
   "cell_type": "code",
   "execution_count": 3,
   "id": "e79e0402",
   "metadata": {},
   "outputs": [
    {
     "data": {
      "text/plain": [
       "array([21.85171573, 24.7473475 ])"
      ]
     },
     "execution_count": 3,
     "metadata": {},
     "output_type": "execute_result"
    }
   ],
   "source": [
    "bmi[bmi > 21.76]"
   ]
  },
  {
   "cell_type": "markdown",
   "id": "4ba33eb9",
   "metadata": {},
   "source": [
    "### Looping through a 2D numpy array using \"np.nditer\""
   ]
  },
  {
   "cell_type": "code",
   "execution_count": 2,
   "id": "9c2da7a0",
   "metadata": {},
   "outputs": [
    {
     "name": "stdout",
     "output_type": "stream",
     "text": [
      "1.73\n",
      "1.68\n",
      "1.71\n",
      "1.89\n",
      "1.79\n",
      "65.4\n",
      "59.2\n",
      "63.6\n",
      "88.4\n",
      "68.7\n"
     ]
    }
   ],
   "source": [
    "# Importing numpy module\n",
    "import numpy as np\n",
    "\n",
    "# Define numpy arrays\n",
    "np_height = np.array([1.73, 1.68, 1.71, 1.89, 1.79])\n",
    "np_weight = np.array([65.4, 59.2, 63.6, 88.4, 68.7])\n",
    "meas = np.array([np_height, np_weight])\n",
    "\n",
    "for val in np.nditer(meas) :\n",
    "    print(val)\n"
   ]
  },
  {
   "cell_type": "markdown",
   "id": "0d5b9980",
   "metadata": {},
   "source": [
    "### Boolean Operations\n",
    "The Numpy boolean array is a type of array (collection of values) that can be used to represent logical 'True' or 'False' values stored in an array data structure in the Python programming language."
   ]
  },
  {
   "cell_type": "code",
   "execution_count": 4,
   "id": "c556043e",
   "metadata": {},
   "outputs": [
    {
     "data": {
      "text/plain": [
       "array([ True, False,  True,  True,  True])"
      ]
     },
     "execution_count": 4,
     "metadata": {},
     "output_type": "execute_result"
    }
   ],
   "source": [
    "# Importing numpy module\n",
    "import numpy as np\n",
    "\n",
    "# Creating NumPy array for BMI\n",
    "bmi = np.array([21.852, 20.975, 21.75, 24.747, 21.441])\n",
    "\n",
    "bmi > 21"
   ]
  },
  {
   "cell_type": "markdown",
   "id": "2394dd63",
   "metadata": {},
   "source": [
    "#### \"logical_and\", \"logical_or\", or \"logical_not\""
   ]
  },
  {
   "cell_type": "markdown",
   "id": "3958cf7e",
   "metadata": {},
   "source": [
    "In this next example we see that the operators doesn't like the array to work on.  \n",
    "\n",
    "\"bmi > 21 and bmi < 22\"\n",
    "\n",
    "\"ValueError: The truth value of an array with more than one element is ambiguous. Use a.any() or a.all()\""
   ]
  },
  {
   "cell_type": "markdown",
   "id": "345bdf87",
   "metadata": {},
   "source": [
    "The answer is to use NumPy operatores \"logical_and\", \"logical_or\", or \"logical_not\"."
   ]
  },
  {
   "cell_type": "code",
   "execution_count": 5,
   "id": "2bd68e41",
   "metadata": {},
   "outputs": [
    {
     "data": {
      "text/plain": [
       "array([ True, False,  True, False,  True])"
      ]
     },
     "execution_count": 5,
     "metadata": {},
     "output_type": "execute_result"
    }
   ],
   "source": [
    "np.logical_and(bmi > 21, bmi < 22)"
   ]
  },
  {
   "cell_type": "markdown",
   "id": "34947c40",
   "metadata": {},
   "source": [
    "To actually select that numbers from the array just use square brackets."
   ]
  },
  {
   "cell_type": "code",
   "execution_count": 6,
   "id": "f36bd827",
   "metadata": {},
   "outputs": [
    {
     "data": {
      "text/plain": [
       "array([21.852, 21.75 , 21.441])"
      ]
     },
     "execution_count": 6,
     "metadata": {},
     "output_type": "execute_result"
    }
   ],
   "source": [
    "bmi[np.logical_and(bmi > 21, bmi < 22)]"
   ]
  },
  {
   "cell_type": "markdown",
   "id": "10c2f0ff",
   "metadata": {},
   "source": [
    "Below, .loc is used to select rows or columns."
   ]
  },
  {
   "cell_type": "code",
   "execution_count": null,
   "id": "b225835d",
   "metadata": {},
   "outputs": [],
   "source": [
    "import pandas as pd\n",
    "\n",
    "# Build cars DataFrame\n",
    "names = ['United States', 'Australia', 'Japan', 'India', 'Russia', 'Morocco', 'Egypt']\n",
    "dr =  [True, False, False, False, True, True, True]\n",
    "cpc = [809, 731, 588, 18, 200, 70, 45]\n",
    "cars_dict = { 'country':names, 'drives_right':dr, 'cars_per_cap':cpc }\n",
    "cars = pd.DataFrame(cars_dict)\n",
    "\n",
    "# Definition of row_labels\n",
    "row_labels = ['US', 'AUS', 'JPN', 'IN', 'RU', 'MOR', 'EG']\n",
    "\n",
    "# Specify row labels of cars\n",
    "cars.index = row_labels\n",
    "\n",
    "# Print cars again\n",
    "print(cars)\n",
    "\n",
    "# Print out drives_right value of Japan\n",
    "print(cars.loc[[\"JPN\"]])\n",
    "\n",
    "# Print sub-DataFrame\n",
    "print(cars.loc[['AUS', 'EG']])\n",
    "\n",
    "# Print out cars_per_cap and drives_right as DataFrame\n",
    "print(cars.loc[:, ['drives_right', 'cars_per_cap']])"
   ]
  },
  {
   "cell_type": "markdown",
   "id": "cb9ac4cc",
   "metadata": {},
   "source": [
    "### Logical Operations\n",
    "Using \"logical_and\" to compare lists."
   ]
  },
  {
   "cell_type": "code",
   "execution_count": 7,
   "id": "9a477088",
   "metadata": {},
   "outputs": [
    {
     "name": "stdout",
     "output_type": "stream",
     "text": [
      "Operation between two lists =   [ True False False False]\n"
     ]
    }
   ],
   "source": [
    "# Importing numpy module\n",
    "import numpy as np\n",
    "  \n",
    "# list 1 represents an array with boolean values\n",
    "list1 = [True, False, True, False]\n",
    "  \n",
    "# list 2 represents an array with boolean values\n",
    "list2 = [True, True, False, True]\n",
    "  \n",
    "# logical operations between boolean values\n",
    "print('Operation between two lists =  ',\n",
    "      np.logical_and(list1, list2))"
   ]
  }
 ],
 "metadata": {
  "kernelspec": {
   "display_name": "Python 3 (ipykernel)",
   "language": "python",
   "name": "python3"
  },
  "language_info": {
   "codemirror_mode": {
    "name": "ipython",
    "version": 3
   },
   "file_extension": ".py",
   "mimetype": "text/x-python",
   "name": "python",
   "nbconvert_exporter": "python",
   "pygments_lexer": "ipython3",
   "version": "3.9.13"
  }
 },
 "nbformat": 4,
 "nbformat_minor": 5
}
